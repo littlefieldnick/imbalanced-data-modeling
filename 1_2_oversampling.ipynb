{
  "nbformat": 4,
  "nbformat_minor": 0,
  "metadata": {
    "colab": {
      "name": "1-2_oversampling.ipynb",
      "provenance": [],
      "collapsed_sections": [],
      "authorship_tag": "ABX9TyMrMPhYF6Z18fJOQk8R1czO",
      "include_colab_link": true
    },
    "kernelspec": {
      "name": "python3",
      "display_name": "Python 3"
    },
    "accelerator": "GPU"
  },
  "cells": [
    {
      "cell_type": "markdown",
      "metadata": {
        "id": "view-in-github",
        "colab_type": "text"
      },
      "source": [
        "<a href=\"https://colab.research.google.com/github/littlefieldnick/imbalanced-data-modeling/blob/main/1_2_oversampling.ipynb\" target=\"_parent\"><img src=\"https://colab.research.google.com/assets/colab-badge.svg\" alt=\"Open In Colab\"/></a>"
      ]
    },
    {
      "cell_type": "code",
      "metadata": {
        "id": "9s6Ti_mWbI2S"
      },
      "source": [
        "import numpy as np\n",
        "import pandas as pd\n",
        "\n",
        "import torch\n",
        "import torch.nn as nn\n",
        "import torchtext\n",
        "import torchtext.data as data\n",
        "import torchtext.datasets.imdb as imdb\n",
        "DEVICE = 'cuda' if torch.cuda.is_available() else 'cpu'"
      ],
      "execution_count": null,
      "outputs": []
    },
    {
      "cell_type": "markdown",
      "metadata": {
        "id": "XCJFGDSkbBKG"
      },
      "source": [
        "### Part 1: Data Extraction and Exploration "
      ]
    },
    {
      "cell_type": "code",
      "metadata": {
        "id": "72V2XjwJP4Tg"
      },
      "source": [
        "TEXT = data.Field(sequential=True, init_token=\"<start>\", batch_first=True)\n",
        "LABEL = data.LabelField(sequential=False, use_vocab=True)\n",
        "EPOCHS = 10"
      ],
      "execution_count": null,
      "outputs": []
    },
    {
      "cell_type": "code",
      "metadata": {
        "id": "X--i8aEAPh4h"
      },
      "source": [
        "train, test = imdb.IMDB.splits(TEXT, LABEL)"
      ],
      "execution_count": null,
      "outputs": []
    },
    {
      "cell_type": "code",
      "metadata": {
        "id": "o0AkV4yMRhmJ"
      },
      "source": [
        "TEXT.build_vocab(train)\n",
        "LABEL.build_vocab(train)"
      ],
      "execution_count": null,
      "outputs": []
    },
    {
      "cell_type": "code",
      "metadata": {
        "colab": {
          "base_uri": "https://localhost:8080/"
        },
        "id": "wfSGGNG-Rn4J",
        "outputId": "2c0092cc-cd31-4a21-cc39-92b2186c5086"
      },
      "source": [
        "TEXT.vocab.stoi[\"<start>\"]"
      ],
      "execution_count": null,
      "outputs": [
        {
          "output_type": "execute_result",
          "data": {
            "text/plain": [
              "2"
            ]
          },
          "metadata": {
            "tags": []
          },
          "execution_count": 5
        }
      ]
    },
    {
      "cell_type": "code",
      "metadata": {
        "id": "vJHJKAm0TRsp"
      },
      "source": [
        "pos_reviews = [example for example in train.examples if example.label == \"pos\"]\n",
        "neg_reviews = [example for example in train.examples if example.label == \"neg\"]"
      ],
      "execution_count": null,
      "outputs": []
    },
    {
      "cell_type": "code",
      "metadata": {
        "id": "lbfUh2xORUmT"
      },
      "source": [
        "pos_lengths = [len(x.text) for x in pos_reviews]\n",
        "neg_lengths = [len(x.text) for x in neg_reviews]"
      ],
      "execution_count": null,
      "outputs": []
    },
    {
      "cell_type": "code",
      "metadata": {
        "id": "r38o8vOCdQwv"
      },
      "source": [
        "pos_review_lengths = list(map(lambda x: len(x.text), pos_reviews))\n",
        "neg_review_lengths = list(map(lambda x: len(x.text), neg_reviews))"
      ],
      "execution_count": null,
      "outputs": []
    },
    {
      "cell_type": "code",
      "metadata": {
        "id": "3pi8ISOWfpM2"
      },
      "source": [
        "from collections import Counter\n",
        "freq_pos_len = Counter(pos_lengths).most_common(1)\n",
        "freq_neg_len = Counter(neg_lengths).most_common(1)"
      ],
      "execution_count": null,
      "outputs": []
    },
    {
      "cell_type": "code",
      "metadata": {
        "colab": {
          "base_uri": "https://localhost:8080/"
        },
        "id": "5BC5XlZPgNEv",
        "outputId": "f01dabd6-fe0a-41e1-a241-6629daa0a8d5"
      },
      "source": [
        "print(\"The most common positive review length is {} words ({} reviews)\".format(freq_pos_len[0][0], freq_pos_len[0][1]))\n",
        "print(\"The most common negative review length is {} words ({} reviews)\".format(freq_neg_len[0][0], freq_neg_len[0][1]))"
      ],
      "execution_count": null,
      "outputs": [
        {
          "output_type": "stream",
          "text": [
            "The most common positive review length is 124 words (99 reviews)\n",
            "The most common negative review length is 123 words (106 reviews)\n"
          ],
          "name": "stdout"
        }
      ]
    },
    {
      "cell_type": "code",
      "metadata": {
        "id": "B58scgOBgut9"
      },
      "source": [
        "import seaborn as sns\n",
        "import matplotlib.pyplot as plt"
      ],
      "execution_count": null,
      "outputs": []
    },
    {
      "cell_type": "code",
      "metadata": {
        "colab": {
          "base_uri": "https://localhost:8080/",
          "height": 296
        },
        "id": "wiJu4WyxhDKE",
        "outputId": "e6cdad5d-4190-4c60-9bd5-8169f189721f"
      },
      "source": [
        "fig, ax = plt.subplots()\n",
        "sns.kdeplot(pos_review_lengths, label=\"Positive Review Lengths\")\n",
        "sns.kdeplot(neg_review_lengths, label=\"Negative Review Lengths\")\n",
        "ax.set(xlabel='word count', ylabel='frequency')\n",
        "ax.legend()"
      ],
      "execution_count": null,
      "outputs": [
        {
          "output_type": "execute_result",
          "data": {
            "text/plain": [
              "<matplotlib.legend.Legend at 0x7f1a7b5564a8>"
            ]
          },
          "metadata": {
            "tags": []
          },
          "execution_count": 12
        },
        {
          "output_type": "display_data",
          "data": {
            "image/png": "[encoded data removed]",
            "text/plain": [
              "<Figure size 432x288 with 1 Axes>"
            ]
          },
          "metadata": {
            "tags": [],
            "needs_background": "light"
          }
        }
      ]
    },
    {
      "cell_type": "markdown",
      "metadata": {
        "id": "A0KPJM_bbHsW"
      },
      "source": [
        "### Part 2: Oversampling"
      ]
    },
    {
      "cell_type": "code",
      "metadata": {
        "id": "9QpqYJrqhPU4"
      },
      "source": [
        "pos_review_idx = list(range(0, len(pos_reviews)))\n",
        "np.random.shuffle(pos_review_idx)"
      ],
      "execution_count": null,
      "outputs": []
    },
    {
      "cell_type": "code",
      "metadata": {
        "id": "FS827QLhjzeY"
      },
      "source": [
        "pos_minority = pos_review_idx[:int(len(pos_review_idx) * 0.5)]"
      ],
      "execution_count": null,
      "outputs": []
    },
    {
      "cell_type": "code",
      "metadata": {
        "id": "J_jfX4MhGN5p"
      },
      "source": [
        "def shuffle(data, return_size=250):\n",
        "  np.random.shuffle(data)\n",
        "  return data[:return_size]"
      ],
      "execution_count": null,
      "outputs": []
    },
    {
      "cell_type": "code",
      "metadata": {
        "id": "4UBLZ5iTth0G",
        "colab": {
          "base_uri": "https://localhost:8080/"
        },
        "outputId": "f14ae185-48c1-4f2b-c9f4-a8b2f281c34d"
      },
      "source": [
        "sampled_pos_reviews = np.tile(shuffle(pos_minority), 25)\n",
        "sampled_pos_reviews[0]"
      ],
      "execution_count": null,
      "outputs": [
        {
          "output_type": "execute_result",
          "data": {
            "text/plain": [
              "8024"
            ]
          },
          "metadata": {
            "tags": []
          },
          "execution_count": 16
        }
      ]
    },
    {
      "cell_type": "code",
      "metadata": {
        "id": "PH3qik2FulSL"
      },
      "source": [
        "pos_review_idx = np.concatenate([pos_minority, sampled_pos_reviews])"
      ],
      "execution_count": null,
      "outputs": []
    },
    {
      "cell_type": "code",
      "metadata": {
        "colab": {
          "base_uri": "https://localhost:8080/"
        },
        "id": "B1kZc-Mje-k_",
        "outputId": "af11a9c6-cd08-48f2-ed00-43a41d08c110"
      },
      "source": [
        "pos_review_idx"
      ],
      "execution_count": null,
      "outputs": [
        {
          "output_type": "execute_result",
          "data": {
            "text/plain": [
              "array([ 8024,  9216,  2541, ...,  7152, 10050,  3132])"
            ]
          },
          "metadata": {
            "tags": []
          },
          "execution_count": 18
        }
      ]
    },
    {
      "cell_type": "code",
      "metadata": {
        "id": "X1qBLOtKH-0_"
      },
      "source": [
        "pos_reviews = [train[idx] for idx in pos_review_idx]"
      ],
      "execution_count": null,
      "outputs": []
    },
    {
      "cell_type": "code",
      "metadata": {
        "id": "bAfBSh3gIYb2"
      },
      "source": [
        "train_x = np.concatenate([neg_reviews, pos_reviews])"
      ],
      "execution_count": null,
      "outputs": []
    },
    {
      "cell_type": "code",
      "metadata": {
        "id": "cqqsMvFpfjb5"
      },
      "source": [
        "# Rebuild Torchtext dataset to use downsampled neg reviews and upsampled pos reviews\n",
        "train_sampled = data.Dataset(train_x, [('text', TEXT), ('label', LABEL)])"
      ],
      "execution_count": null,
      "outputs": []
    },
    {
      "cell_type": "code",
      "metadata": {
        "id": "cvJ6dSgeK04H"
      },
      "source": [
        "strt_token = \"<START>\"\n",
        "pad_token = \"<PAD>\""
      ],
      "execution_count": null,
      "outputs": []
    },
    {
      "cell_type": "code",
      "metadata": {
        "id": "OprVDHcsSDoc"
      },
      "source": [
        "TEXT.build_vocab(train_sampled)\n",
        "LABEL.build_vocab(train_sampled)"
      ],
      "execution_count": null,
      "outputs": []
    },
    {
      "cell_type": "code",
      "metadata": {
        "id": "f96Q7PoTUseK"
      },
      "source": [
        "train_dl = data.BucketIterator(train_sampled, 128, device=DEVICE)\n",
        "test_dl = data.BucketIterator(test, 128, device=DEVICE)"
      ],
      "execution_count": null,
      "outputs": []
    },
    {
      "cell_type": "code",
      "metadata": {
        "id": "nJR-ClAYnzZP"
      },
      "source": [
        "X, y = next(iter(train_dl))"
      ],
      "execution_count": null,
      "outputs": []
    },
    {
      "cell_type": "code",
      "metadata": {
        "id": "-XHHSBERmSon"
      },
      "source": [
        "class ImbalancedData(nn.Module):\n",
        "  def __init__(self, embedding_dim, embedding_size, num_layers, output_size, hidden_size):\n",
        "    super(ImbalancedData, self).__init__()\n",
        "    self.embedding_size = embedding_size\n",
        "    self.num_layers = num_layers\n",
        "\n",
        "    self.embedding = nn.Embedding(num_embeddings=embedding_size, embedding_dim=embedding_dim, padding_idx=TEXT.vocab.stoi[\"<PAD>\"])\n",
        "    self.lstm = nn.LSTM(embedding_dim, hidden_size, num_layers=num_layers)\n",
        "    self.linear = nn.Linear(hidden_size, output_size)\n",
        "\n",
        "  def forward(self, x):\n",
        "    out = self.embedding(x)\n",
        "    out, _ = self.lstm(out)\n",
        "    out = self.linear(out)\n",
        "    return torch.mean(out, keepdims=False, dim=1)"
      ],
      "execution_count": null,
      "outputs": []
    },
    {
      "cell_type": "code",
      "metadata": {
        "colab": {
          "base_uri": "https://localhost:8080/"
        },
        "id": "USDTnFWkUuSN",
        "outputId": "804153ec-975b-4768-86b4-63d21e4afbf1"
      },
      "source": [
        "TEXT.vocab.stoi[\"<PAD>\"]"
      ],
      "execution_count": null,
      "outputs": [
        {
          "output_type": "execute_result",
          "data": {
            "text/plain": [
              "0"
            ]
          },
          "metadata": {
            "tags": []
          },
          "execution_count": 27
        }
      ]
    },
    {
      "cell_type": "code",
      "metadata": {
        "id": "JzYidAXLP17R",
        "colab": {
          "base_uri": "https://localhost:8080/"
        },
        "outputId": "b2f36bee-d57f-4236-e513-e743a83d8904"
      },
      "source": [
        "model = ImbalancedData(300, len(TEXT.vocab.stoi) + 1, 1, 1, 128)\n",
        "model.cuda()"
      ],
      "execution_count": null,
      "outputs": [
        {
          "output_type": "execute_result",
          "data": {
            "text/plain": [
              "ImbalancedData(\n",
              "  (embedding): Embedding(233619, 300, padding_idx=0)\n",
              "  (lstm): LSTM(300, 128)\n",
              "  (linear): Linear(in_features=128, out_features=1, bias=True)\n",
              ")"
            ]
          },
          "metadata": {
            "tags": []
          },
          "execution_count": 28
        }
      ]
    },
    {
      "cell_type": "code",
      "metadata": {
        "id": "-2BRo6HjVu_l"
      },
      "source": [
        "optimizer = torch.optim.Adam(model.parameters(), lr=0.001)\n",
        "loss_fn = torch.nn.BCELoss()"
      ],
      "execution_count": null,
      "outputs": []
    },
    {
      "cell_type": "code",
      "metadata": {
        "id": "Rz7MN4rJ-Uzm",
        "colab": {
          "base_uri": "https://localhost:8080/"
        },
        "outputId": "a880403b-40dd-4e75-c5cf-cbaba6143b25"
      },
      "source": [
        "model.train()\n",
        "for i in range(1, EPOCHS + 1):\n",
        "  train_loss = []\n",
        "  for batch in train_dl:\n",
        "    optimizer.zero_grad()\n",
        "    X = batch.text\n",
        "    y = batch.label.float()\n",
        "    out = torch.sigmoid(model(X))\n",
        "    y = y.reshape((len(y), 1))\n",
        "    loss = loss_fn(out, y)\n",
        "    train_loss.append(loss.item())\n",
        "    loss.backward()\n",
        "    optimizer.step()\n",
        "  print(\"Epoch\", i, \": Training Loss:\", np.mean(np.array(train_loss)))"
      ],
      "execution_count": null,
      "outputs": [
        {
          "output_type": "stream",
          "text": [
            "Epoch 1 : Training Loss: 0.6895699774732396\n",
            "Epoch 2 : Training Loss: 0.5767414635237382\n",
            "Epoch 3 : Training Loss: 0.39655739023369185\n",
            "Epoch 4 : Training Loss: 0.3053244792533164\n",
            "Epoch 5 : Training Loss: 0.24545513161895227\n",
            "Epoch 6 : Training Loss: 0.20409255125084702\n",
            "Epoch 7 : Training Loss: 0.1751527409164273\n",
            "Epoch 8 : Training Loss: 0.15384361145979897\n",
            "Epoch 9 : Training Loss: 0.1353061601367532\n",
            "Epoch 10 : Training Loss: 0.12010294294022784\n"
          ],
          "name": "stdout"
        }
      ]
    },
    {
      "cell_type": "code",
      "metadata": {
        "id": "00GjGtooL1ZS"
      },
      "source": [
        "def get_preds(model, data):\n",
        "  final_preds = []\n",
        "  model.eval()\n",
        "  for batch in data:\n",
        "    out = torch.sigmoid(model(batch.text))\n",
        "    b_pred = [1 if p > 0.5 else 0 for p in out]\n",
        "    final_preds.extend(b_pred)\n",
        "\n",
        "  return final_preds\n",
        "\n",
        "def get_actual_preds(data):\n",
        "  actual = []\n",
        "  for batch in data:\n",
        "    act_v = [1 if y > 0.5 else 0 for y in batch.label]\n",
        "    actual.extend(act_v)\n",
        "\n",
        "  return actual"
      ],
      "execution_count": null,
      "outputs": []
    },
    {
      "cell_type": "code",
      "metadata": {
        "id": "lfAxVNC1IbCH"
      },
      "source": [
        "from sklearn.metrics import precision_score, recall_score, f1_score\n",
        "from tabulate import tabulate\n",
        "\n",
        "def eval_model(model, data, ds=\"train\"):\n",
        "  final_preds = get_preds(model, data)\n",
        "  actual_preds = get_actual_preds(data)\n",
        "\n",
        "  if ds == \"train\":\n",
        "    print(\"EVALUATING TRAINING SET\")\n",
        "  else:\n",
        "    print(\"EVALUATING TEST SET\")\n",
        "\n",
        "  precision = precision_score(actual_preds, final_preds)\n",
        "  recall = recall_score(actual_preds, final_preds)\n",
        "  f1 = f1_score(actual_preds, final_preds)\n",
        "  print(tabulate([[precision, recall, f1]], headers=('Precision', 'Recall', 'F1-Score')))\n"
      ],
      "execution_count": null,
      "outputs": []
    },
    {
      "cell_type": "code",
      "metadata": {
        "colab": {
          "base_uri": "https://localhost:8080/"
        },
        "id": "YxSLOZANIi8p",
        "outputId": "27e00d40-2cff-4d0e-e028-322f81c052d2"
      },
      "source": [
        "eval_model(model, train_dl)"
      ],
      "execution_count": null,
      "outputs": [
        {
          "output_type": "stream",
          "text": [
            "EVALUATING TRAINING SET\n",
            "  Precision    Recall    F1-Score\n",
            "-----------  --------  ----------\n",
            "    0.49842   0.49216     0.49527\n"
          ],
          "name": "stdout"
        }
      ]
    },
    {
      "cell_type": "code",
      "metadata": {
        "colab": {
          "base_uri": "https://localhost:8080/"
        },
        "id": "s2wlGO9ZUaRJ",
        "outputId": "f62a6af9-48db-44ac-823e-577c7383e067"
      },
      "source": [
        "eval_model(model, test_dl, ds=\"test\")"
      ],
      "execution_count": null,
      "outputs": [
        {
          "output_type": "stream",
          "text": [
            "EVALUATING TEST SET\n",
            "  Precision    Recall    F1-Score\n",
            "-----------  --------  ----------\n",
            "    0.49931    0.3764     0.42923\n"
          ],
          "name": "stdout"
        }
      ]
    },
    {
      "cell_type": "code",
      "metadata": {
        "id": "vM-R5qGfU9Nv"
      },
      "source": [
        ""
      ],
      "execution_count": null,
      "outputs": []
    }
  ]
}